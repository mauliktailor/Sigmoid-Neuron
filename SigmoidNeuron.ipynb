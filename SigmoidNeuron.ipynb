{
  "nbformat": 4,
  "nbformat_minor": 0,
  "metadata": {
    "colab": {
      "name": "SigmoidNeuron.ipynb",
      "provenance": []
    },
    "kernelspec": {
      "name": "python3",
      "display_name": "Python 3"
    }
  },
  "cells": [
    {
      "cell_type": "markdown",
      "metadata": {
        "id": "PCWm4IhLIPe1",
        "colab_type": "text"
      },
      "source": [
        "\n",
        "# Imports\n",
        "\n"
      ]
    },
    {
      "cell_type": "code",
      "metadata": {
        "id": "-MdKpqljexhL",
        "colab_type": "code",
        "colab": {}
      },
      "source": [
        "import pandas as pd\n",
        "import numpy as np\n",
        "import matplotlib.pyplot as plt\n",
        "import math"
      ],
      "execution_count": 0,
      "outputs": []
    },
    {
      "cell_type": "markdown",
      "metadata": {
        "id": "uWFC4lViIYYA",
        "colab_type": "text"
      },
      "source": [
        "# random data points \n",
        "Meaning at imdb rating: 0.5, the porbability of watching movie 0.2 and similarly at imdb rating: 2.5, the porbability of watching movie 0.9"
      ]
    },
    {
      "cell_type": "code",
      "metadata": {
        "id": "0aKBK0_48ftK",
        "colab_type": "code",
        "colab": {}
      },
      "source": [
        "X=np.array([0.5,2.5])\n",
        "Y=np.array([0.2,0.9])"
      ],
      "execution_count": 0,
      "outputs": []
    },
    {
      "cell_type": "code",
      "metadata": {
        "id": "K5uruJlB8p6Z",
        "colab_type": "code",
        "colab": {}
      },
      "source": [
        "#Sigmoid function\n",
        "def f(w,b,x):\n",
        "  return 1.0/(1.0+np.exp(-(w*x+b)))"
      ],
      "execution_count": 0,
      "outputs": []
    },
    {
      "cell_type": "code",
      "metadata": {
        "id": "1nUAAa7V8weh",
        "colab_type": "code",
        "colab": {}
      },
      "source": [
        "# Error calculation for certain valus of w and b\n",
        "def error(w,b):\n",
        "  err=0\n",
        "  for x,y in zip(X,Y):\n",
        "    pred=f(w,b,x)\n",
        "    err+=0.5*(pred-y)**2\n",
        "  return err"
      ],
      "execution_count": 0,
      "outputs": []
    },
    {
      "cell_type": "code",
      "metadata": {
        "id": "ER0GBrcK-Eai",
        "colab_type": "code",
        "colab": {}
      },
      "source": [
        "# change in weights w\n",
        "def grad_w(w,b,x,y):\n",
        "  fx= f(w,b,x)\n",
        "  return (fx -y)*(1-fx)*(fx)*x"
      ],
      "execution_count": 0,
      "outputs": []
    },
    {
      "cell_type": "code",
      "metadata": {
        "id": "34eIqJth-sH6",
        "colab_type": "code",
        "colab": {}
      },
      "source": [
        "# change in bias b\n",
        "def grad_b(w,b,x,y):\n",
        "  fx= f(w,b,x)\n",
        "  return (fx -y)*(1-fx)*(fx)"
      ],
      "execution_count": 0,
      "outputs": []
    },
    {
      "cell_type": "code",
      "metadata": {
        "id": "tikX3qLx-vwi",
        "colab_type": "code",
        "colab": {}
      },
      "source": [
        "# gradient descent algorithm\n",
        "def Gradiant_descent():\n",
        "  w,b,eta,epoch=-2,-2,1,1000\n",
        "  err=[]\n",
        "  for i in range(epoch):\n",
        "    dw,db=0,0\n",
        "    for x,y in zip(X,Y):\n",
        "      dw+=grad_w(w,b,x,y)\n",
        "      db+=grad_b(w,b,x,y)\n",
        "    w= w - eta*dw\n",
        "    b= b - eta*db\n",
        "    err.append(error(w,b))\n",
        "  plt.plot(err)\n",
        "  return w,b"
      ],
      "execution_count": 0,
      "outputs": []
    },
    {
      "cell_type": "code",
      "metadata": {
        "id": "Bzxs66i7_uC6",
        "colab_type": "code",
        "colab": {
          "base_uri": "https://localhost:8080/",
          "height": 265
        },
        "outputId": "e13c9628-1d43-49c7-fa6d-6ffd6a86aba4"
      },
      "source": [
        "w,b=Gradiant_descent()"
      ],
      "execution_count": 83,
      "outputs": [
        {
          "output_type": "display_data",
          "data": {
            "image/png": "[encoded data removed]",
            "text/plain": [
              "<Figure size 432x288 with 1 Axes>"
            ]
          },
          "metadata": {
            "tags": []
          }
        }
      ]
    },
    {
      "cell_type": "code",
      "metadata": {
        "id": "bFVmlTxP_0FC",
        "colab_type": "code",
        "colab": {
          "base_uri": "https://localhost:8080/",
          "height": 34
        },
        "outputId": "3ebeb2d6-a937-4819-c5a7-aa93140b5e41"
      },
      "source": [
        "f(w,b,2.5)"
      ],
      "execution_count": 84,
      "outputs": [
        {
          "output_type": "execute_result",
          "data": {
            "text/plain": [
              "0.8999961231834462"
            ]
          },
          "metadata": {
            "tags": []
          },
          "execution_count": 84
        }
      ]
    },
    {
      "cell_type": "code",
      "metadata": {
        "id": "hoO735Xu_7qy",
        "colab_type": "code",
        "colab": {
          "base_uri": "https://localhost:8080/",
          "height": 34
        },
        "outputId": "324c13e6-616a-407f-fc6a-cff5a7ceeb30"
      },
      "source": [
        "w"
      ],
      "execution_count": 85,
      "outputs": [
        {
          "output_type": "execute_result",
          "data": {
            "text/plain": [
              "1.7917198301022377"
            ]
          },
          "metadata": {
            "tags": []
          },
          "execution_count": 85
        }
      ]
    },
    {
      "cell_type": "code",
      "metadata": {
        "id": "XlksIfaUB2aT",
        "colab_type": "code",
        "colab": {
          "base_uri": "https://localhost:8080/",
          "height": 34
        },
        "outputId": "635b4b34-a8a9-434b-a73b-60cbe5d54f87"
      },
      "source": [
        "b"
      ],
      "execution_count": 86,
      "outputs": [
        {
          "output_type": "execute_result",
          "data": {
            "text/plain": [
              "-2.2821180729166732"
            ]
          },
          "metadata": {
            "tags": []
          },
          "execution_count": 86
        }
      ]
    },
    {
      "cell_type": "markdown",
      "metadata": {
        "id": "n6f0qQwmEj6F",
        "colab_type": "text"
      },
      "source": [
        "## After training we found the w and b for sigmoid equation, such that it passes through the two points."
      ]
    },
    {
      "cell_type": "code",
      "metadata": {
        "id": "4xga2zL1KoBB",
        "colab_type": "code",
        "colab": {}
      },
      "source": [
        ""
      ],
      "execution_count": 0,
      "outputs": []
    }
  ]
}